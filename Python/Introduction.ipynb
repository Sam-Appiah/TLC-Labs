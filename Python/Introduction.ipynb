{
 "cells": [
  {
   "cell_type": "code",
   "execution_count": 2,
   "metadata": {},
   "outputs": [
    {
     "name": "stdout",
     "output_type": "stream",
     "text": [
      "enter an age: 5\n",
      "1\n",
      "3\n",
      "6\n",
      "10\n",
      "15\n"
     ]
    }
   ],
   "source": [
    "age = int(input(\"enter an age: \"))\n",
    "i = 1\n",
    "ageSum = 0\n",
    "\n",
    "while i <= age:\n",
    "    ageSum += i\n",
    "    print(ageSum)\n",
    "    i += 1"
   ]
  },
  {
   "cell_type": "code",
   "execution_count": 1,
   "metadata": {},
   "outputs": [
    {
     "name": "stdout",
     "output_type": "stream",
     "text": [
      "enter an age: 3\n",
      "1\n",
      "3\n",
      "3 years\n",
      "36 months\n",
      "1095 days\n",
      "26280 hours\n",
      "6\n"
     ]
    }
   ],
   "source": [
    "age = int(input(\"enter an age: \"))\n",
    "i = 1\n",
    "ageSum = 0\n",
    "\n",
    "while i <= age:\n",
    "    ageSum += i\n",
    "    print(ageSum)\n",
    "    i += 1\n",
    "    \n",
    "    if i == age:\n",
    "        print(str(ageSum) + \" years\")\n",
    "        print(str(ageSum*12) + \" months\")\n",
    "        print(str(ageSum*365) + \" days\")\n",
    "        print(str(ageSum*365*24) + \" hours\")\n",
    " "
   ]
  },
  {
   "cell_type": "code",
   "execution_count": null,
   "metadata": {},
   "outputs": [],
   "source": []
  }
 ],
 "metadata": {
  "kernelspec": {
   "display_name": "Python 3",
   "language": "python",
   "name": "python3"
  },
  "language_info": {
   "codemirror_mode": {
    "name": "ipython",
    "version": 3
   },
   "file_extension": ".py",
   "mimetype": "text/x-python",
   "name": "python",
   "nbconvert_exporter": "python",
   "pygments_lexer": "ipython3",
   "version": "3.8.3"
  }
 },
 "nbformat": 4,
 "nbformat_minor": 4
}
